{
 "cells": [
  {
   "cell_type": "markdown",
   "metadata": {},
   "source": [
    "# Data preprocessing\n",
    "\n",
    "Let's start first by loading the data"
   ]
  },
  {
   "cell_type": "markdown",
   "metadata": {},
   "source": [
    "Let's import the libraries needed for the next steps"
   ]
  },
  {
   "cell_type": "code",
   "execution_count": 156,
   "metadata": {},
   "outputs": [],
   "source": [
    "import matplotlib.pyplot as plt\n",
    "import numpy as np\n",
    "import os\n",
    "import torch\n",
    "from torchvision import datasets, transforms\n",
    "from torch.utils.data import DataLoader"
   ]
  },
  {
   "cell_type": "code",
   "execution_count": 157,
   "metadata": {},
   "outputs": [],
   "source": [
    "train_dir = 'datasets/asl_alphabet/train'\n",
    "val_dir = 'datasets/asl_alphabet/val'\n",
    "test_dir  = 'datasets/asl_alphabet/test'"
   ]
  },
  {
   "cell_type": "code",
   "execution_count": 181,
   "metadata": {},
   "outputs": [],
   "source": [
    "batch_size = 128\n",
    "target_size = (32, 32)  # dataset pic = 200x200\n",
    "\n",
    "# Define the transformations\n",
    "train_transforms = transforms.Compose([\n",
    "    transforms.Grayscale(num_output_channels=1),\n",
    "    transforms.Resize(target_size),\n",
    "    transforms.RandomHorizontalFlip(),\n",
    "    transforms.RandomRotation(degrees=45),\n",
    "    transforms.ToTensor(),\n",
    "    transforms.Normalize((0.5,), (0.5,))\n",
    "])\n",
    "\n",
    "val_test_transforms = transforms.Compose([\n",
    "    transforms.Grayscale(num_output_channels=1),\n",
    "    transforms.Resize(target_size),\n",
    "    transforms.ToTensor(),\n",
    "    transforms.Normalize((0.5,), (0.5,))\n",
    "])\n",
    "\n",
    "# Load the datasets\n",
    "train_dataset = datasets.ImageFolder(train_dir, transform=train_transforms)\n",
    "val_dataset = datasets.ImageFolder(val_dir, transform=val_test_transforms)\n",
    "test_dataset = datasets.ImageFolder(test_dir, transform=val_test_transforms)\n",
    "\n",
    "# Create data loaders\n",
    "train_loader = DataLoader(train_dataset, batch_size=batch_size, shuffle=True)\n",
    "val_loader = DataLoader(val_dataset, batch_size=batch_size, shuffle=False)\n",
    "test_loader = DataLoader(test_dataset, batch_size=batch_size, shuffle=False)\n"
   ]
  },
  {
   "cell_type": "markdown",
   "metadata": {},
   "source": [
    "Let's check the number of classes and classes we have"
   ]
  },
  {
   "cell_type": "code",
   "execution_count": 182,
   "metadata": {},
   "outputs": [
    {
     "name": "stdout",
     "output_type": "stream",
     "text": [
      "Size:  29\n",
      "['A', 'B', 'C', 'D', 'E', 'F', 'G', 'H', 'I', 'J', 'K', 'L', 'M', 'N', 'O', 'P', 'Q', 'R', 'S', 'T', 'U', 'V', 'W', 'X', 'Y', 'Z', 'del', 'nothing', 'space']\n"
     ]
    }
   ],
   "source": [
    "labels = train_dataset.classes\n",
    "print(\"Size: \", len(labels))\n",
    "print(labels)"
   ]
  },
  {
   "cell_type": "markdown",
   "metadata": {},
   "source": [
    "Let's check that the images have loaded in correctly by displaying some examples"
   ]
  },
  {
   "cell_type": "code",
   "execution_count": 170,
   "metadata": {},
   "outputs": [],
   "source": [
    "def imshow(ax, img, label):\n",
    "    img = img / 2 + 0.5 \n",
    "    np_img = img.numpy()\n",
    "    ax.imshow(np_img[0], cmap='grey')\n",
    "    ax.set_title(f\"Label: {train_dataset.classes[label]}\")\n",
    "    ax.axis('off')"
   ]
  },
  {
   "cell_type": "code",
   "execution_count": 171,
   "metadata": {},
   "outputs": [],
   "source": [
    "def show_samples(loader):\n",
    "    data_iter = iter(loader)\n",
    "    images, labels = next(data_iter)\n",
    "    fig, axes = plt.subplots(1, 6, figsize=(12, 6)) \n",
    "    for i in range(6):\n",
    "        ax = axes[i]\n",
    "        imshow(ax, images[i], labels[i])\n",
    "        \n",
    "    plt.show()"
   ]
  },
  {
   "cell_type": "code",
   "execution_count": 172,
   "metadata": {},
   "outputs": [
    {
     "data": {
      "image/png": "[encoded data removed]",
      "text/plain": [
       "<Figure size 1200x600 with 6 Axes>"
      ]
     },
     "metadata": {},
     "output_type": "display_data"
    }
   ],
   "source": [
    "show_samples(train_loader)"
   ]
  },
  {
   "cell_type": "markdown",
   "metadata": {},
   "source": [
    "Let's save the preprocessed images in a new directory. It will save inside datasets/preprocessed"
   ]
  },
  {
   "cell_type": "code",
   "execution_count": 190,
   "metadata": {},
   "outputs": [],
   "source": [
    "output_dir = \"../dataset/preprocessed/asl_alphabet\"\n",
    "splits = ['train', 'val', 'test']\n",
    "\n",
    "# This creates directories for preprocessed train, val, and test\n",
    "for split in splits:\n",
    "    os.makedirs(output_dir, exist_ok=True)"
   ]
  },
  {
   "cell_type": "code",
   "execution_count": 191,
   "metadata": {},
   "outputs": [],
   "source": [
    "from tqdm import tqdm\n",
    "import pandas as pd\n",
    "import csv\n",
    "\n",
    "# Function to save a data loader to CSV\n",
    "def save_loader_to_csv(loader, folder_name, split_name):\n",
    "    os.makedirs(folder_name, exist_ok=True)  # Create directory if it doesn't exist\n",
    "    data_list = []\n",
    "    label_list = []\n",
    "    \n",
    "    # Initialize tqdm progress bar\n",
    "    total_batches = len(loader)\n",
    "    with tqdm(total=total_batches, desc=f\"Saving {split_name}\", unit=\"batch\") as pbar:\n",
    "        # Iterate through the loader and collect data\n",
    "        for data, labels in loader:\n",
    "            data_list.append(data.numpy())  # Convert tensor to numpy array\n",
    "            label_list.append(labels.numpy())\n",
    "            pbar.update(1)  # Update progress bar for each batch\n",
    "\n",
    "    # Stack all batches into one array\n",
    "    data_array = np.vstack(data_list)  # Shape: (total_samples, channels, height, width)\n",
    "    label_array = np.concatenate(label_list)  # Shape: (total_samples,)\n",
    "\n",
    "    # Reshape the data array to have one row per sample (flatten the image)\n",
    "    data_flattened = data_array.reshape(data_array.shape[0], -1)\n",
    "\n",
    "    # Combine data and labels into a single DataFrame\n",
    "    df = pd.DataFrame(data_flattened)\n",
    "    df['label'] = label_array\n",
    "\n",
    "    # Save the dataframe to CSV\n",
    "    csv_path = os.path.join(folder_name, f\"{split_name}.csv\")\n",
    "    df.to_csv(csv_path, index=False)\n",
    "    print(f\"{split_name} saved to {csv_path}\")"
   ]
  },
  {
   "cell_type": "code",
   "execution_count": 192,
   "metadata": {},
   "outputs": [
    {
     "name": "stderr",
     "output_type": "stream",
     "text": [
      "Saving train: 100%|██████████| 544/544 [02:49<00:00,  3.20batch/s]\n"
     ]
    },
    {
     "name": "stdout",
     "output_type": "stream",
     "text": [
      "train saved to ../dataset/preprocessed/asl_alphabet/train.csv\n"
     ]
    },
    {
     "name": "stderr",
     "output_type": "stream",
     "text": [
      "Saving val: 100%|██████████| 68/68 [00:18<00:00,  3.72batch/s]\n"
     ]
    },
    {
     "name": "stdout",
     "output_type": "stream",
     "text": [
      "val saved to ../dataset/preprocessed/asl_alphabet/val.csv\n"
     ]
    },
    {
     "name": "stderr",
     "output_type": "stream",
     "text": [
      "Saving test: 100%|██████████| 68/68 [00:15<00:00,  4.34batch/s]\n"
     ]
    },
    {
     "name": "stdout",
     "output_type": "stream",
     "text": [
      "test saved to ../dataset/preprocessed/asl_alphabet/test.csv\n"
     ]
    }
   ],
   "source": [
    "# Save the loaders\n",
    "save_loader_to_csv(train_loader, output_dir, 'train')\n",
    "save_loader_to_csv(val_loader, output_dir, 'val')\n",
    "save_loader_to_csv(test_loader, output_dir, 'test')"
   ]
  }
 ],
 "metadata": {
  "kernelspec": {
   "display_name": "Python 3",
   "language": "python",
   "name": "python3"
  },
  "language_info": {
   "codemirror_mode": {
    "name": "ipython",
    "version": 3
   },
   "file_extension": ".py",
   "mimetype": "text/x-python",
   "name": "python",
   "nbconvert_exporter": "python",
   "pygments_lexer": "ipython3",
   "version": "3.10.12"
  }
 },
 "nbformat": 4,
 "nbformat_minor": 2
}
