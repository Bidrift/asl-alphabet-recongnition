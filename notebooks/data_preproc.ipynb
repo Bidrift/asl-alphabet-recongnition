{
 "cells": [
  {
   "cell_type": "markdown",
   "metadata": {},
   "source": [
    "# Data preprocessing\n",
    "\n",
    "Let's start first by loading the data"
   ]
  },
  {
   "cell_type": "markdown",
   "metadata": {},
   "source": [
    "Let's import the libraries needed for the next steps"
   ]
  },
  {
   "cell_type": "code",
   "execution_count": 12,
   "metadata": {},
   "outputs": [],
   "source": [
    "import cv2\n",
    "import matplotlib.pyplot as plt\n",
    "import numpy as np\n",
    "import os\n",
    "import torch\n",
    "from torchvision import datasets, transforms\n",
    "from torch.utils.data import DataLoader"
   ]
  },
  {
   "cell_type": "code",
   "execution_count": 2,
   "metadata": {},
   "outputs": [],
   "source": [
    "train_dir = 'datasets/asl_alphabet/train'\n",
    "val_dir = 'datasets/asl_alphabet/val'\n",
    "test_dir  = 'datasets/asl_alphabet/test'"
   ]
  },
  {
   "cell_type": "code",
   "execution_count": 103,
   "metadata": {},
   "outputs": [],
   "source": [
    "batch_size = 128\n",
    "target_size = (32, 32)  # dataset pic = 200x200\n",
    "\n",
    "# Define the transformations\n",
    "train_transforms = transforms.Compose([\n",
    "    transforms.Grayscale(num_output_channels=1),\n",
    "    transforms.Resize(target_size),\n",
    "    transforms.RandomHorizontalFlip(),\n",
    "    transforms.RandomRotation(degrees=45),\n",
    "    transforms.ToTensor(),\n",
    "    transforms.Normalize((0.5,), (0.5,))\n",
    "])\n",
    "\n",
    "val_test_transforms = transforms.Compose([\n",
    "    transforms.Grayscale(num_output_channels=1),\n",
    "    transforms.Resize(target_size),\n",
    "    transforms.ToTensor(),\n",
    "    transforms.Normalize((0.5,), (0.5,))\n",
    "])\n",
    "\n",
    "# Load the datasets\n",
    "train_dataset = datasets.ImageFolder(train_dir, transform=train_transforms)\n",
    "val_dataset = datasets.ImageFolder(val_dir, transform=val_test_transforms)\n",
    "test_dataset = datasets.ImageFolder(test_dir, transform=val_test_transforms)\n",
    "\n",
    "# Create data loaders\n",
    "train_loader = DataLoader(train_dataset, batch_size=batch_size, shuffle=True)\n",
    "val_loader = DataLoader(val_dataset, batch_size=batch_size, shuffle=False)\n",
    "test_loader = DataLoader(test_dataset, batch_size=batch_size, shuffle=False)\n"
   ]
  },
  {
   "cell_type": "markdown",
   "metadata": {},
   "source": [
    "Let's check the number of classes and classes we have"
   ]
  },
  {
   "cell_type": "code",
   "execution_count": 104,
   "metadata": {},
   "outputs": [
    {
     "name": "stdout",
     "output_type": "stream",
     "text": [
      "Size:  29\n",
      "['A', 'B', 'C', 'D', 'E', 'F', 'G', 'H', 'I', 'J', 'K', 'L', 'M', 'N', 'O', 'P', 'Q', 'R', 'S', 'T', 'U', 'V', 'W', 'X', 'Y', 'Z', 'del', 'nothing', 'space']\n"
     ]
    }
   ],
   "source": [
    "labels = train_dataset.classes\n",
    "print(\"Size: \", len(labels))\n",
    "print(labels)"
   ]
  },
  {
   "cell_type": "markdown",
   "metadata": {},
   "source": [
    "Let's check that the images have loaded in correctly by displaying some examples"
   ]
  },
  {
   "cell_type": "code",
   "execution_count": 138,
   "metadata": {},
   "outputs": [],
   "source": [
    "def imshow(ax, img, label):\n",
    "    img = img / 2 + 0.5 \n",
    "    np_img = img.numpy()\n",
    "    ax.imshow(np_img[0])\n",
    "    ax.set_title(f\"Label: {train_dataset.classes[label]}\")\n",
    "    ax.axis('off')"
   ]
  },
  {
   "cell_type": "code",
   "execution_count": 139,
   "metadata": {},
   "outputs": [],
   "source": [
    "def show_samples(loader):\n",
    "    data_iter = iter(loader)\n",
    "    images, labels = next(data_iter)\n",
    "    fig, axes = plt.subplots(1, 6, figsize=(12, 6)) \n",
    "    for i in range(6):\n",
    "        ax = axes[i]\n",
    "        imshow(ax, images[i], labels[i])\n",
    "        \n",
    "    plt.show()"
   ]
  },
  {
   "cell_type": "code",
   "execution_count": 140,
   "metadata": {},
   "outputs": [
    {
     "data": {
      "image/png": "[encoded data removed]",
      "text/plain": [
       "<Figure size 1200x600 with 6 Axes>"
      ]
     },
     "metadata": {},
     "output_type": "display_data"
    }
   ],
   "source": [
    "show_samples(train_loader)"
   ]
  },
  {
   "cell_type": "markdown",
   "metadata": {},
   "source": [
    "Let's save the preprocessed images in a new directory. It will save inside datasets/preprocessed"
   ]
  },
  {
   "cell_type": "code",
   "execution_count": 141,
   "metadata": {},
   "outputs": [],
   "source": [
    "output_dir = \"../dataset/preprocessed/asl_alphabet\"\n",
    "splits = ['train', 'val', 'test']\n",
    "\n",
    "# This creates directories for preprocessed train, val, and test\n",
    "for split in splits:\n",
    "    os.makedirs(os.path.join(output_dir, split), exist_ok=True)\n",
    "    for class_name in train_dataset.classes:\n",
    "        os.makedirs(os.path.join(output_dir, split, class_name), exist_ok=True)"
   ]
  },
  {
   "cell_type": "code",
   "execution_count": 136,
   "metadata": {},
   "outputs": [],
   "source": [
    "from tqdm import tqdm\n",
    "\n",
    "def save_preprocessed_images(loader, dataset, output_split):\n",
    "    for batch_idx, (image_batch, labels_batch) in tqdm(enumerate(loader), total=len(loader)):\n",
    "        images_to_save = []  # List to hold images to save\n",
    "        class_names = []  # List to hold class names for saving\n",
    "        \n",
    "        for i in range(image_batch.size(0)):  # Iterate through the batch\n",
    "            # Get the class label\n",
    "            label = labels_batch[i]\n",
    "            class_name = dataset.classes[label.item()]  # Get the class name\n",
    "            \n",
    "            # Convert the tensor back to an image\n",
    "            image = image_batch[i].squeeze(0)  # Remove the channel dimension (1, 32, 32) -> (32, 32)\n",
    "            image = image / 2 + 0.5  # Unnormalize\n",
    "            image = transforms.ToPILImage()(image)  # Convert to PIL image\n",
    "            \n",
    "            images_to_save.append(image)  # Collect image for saving\n",
    "            class_names.append(class_name)  # Collect corresponding class name\n",
    "\n",
    "        # Save all images in this batch\n",
    "        for idx, image in enumerate(images_to_save):\n",
    "            # Create the directory path for the current class\n",
    "            class_path = os.path.join(output_dir, output_split, class_names[idx])\n",
    "            os.makedirs(class_path, exist_ok=True)  # Ensure the class directory exists\n",
    "            \n",
    "            # Create the image save path with the format ClassName.jpg\n",
    "            image_save_path = os.path.join(class_path, f\"{class_names[idx]}{batch_idx * image_batch.size(0) + idx}.jpg\")\n",
    "            image.save(image_save_path, format='JPEG')  # Save as JPG"
   ]
  },
  {
   "cell_type": "code",
   "execution_count": 137,
   "metadata": {},
   "outputs": [
    {
     "name": "stderr",
     "output_type": "stream",
     "text": [
      "100%|██████████| 544/544 [03:11<00:00,  2.85it/s]\n",
      "100%|██████████| 68/68 [00:25<00:00,  2.65it/s]\n",
      "100%|██████████| 68/68 [00:22<00:00,  2.98it/s]\n"
     ]
    }
   ],
   "source": [
    "save_preprocessed_images(train_loader, train_dataset, 'train')\n",
    "save_preprocessed_images(val_loader, val_dataset, 'val')\n",
    "save_preprocessed_images(test_loader, test_dataset, 'test')"
   ]
  }
 ],
 "metadata": {
  "kernelspec": {
   "display_name": "Python 3",
   "language": "python",
   "name": "python3"
  },
  "language_info": {
   "codemirror_mode": {
    "name": "ipython",
    "version": 3
   },
   "file_extension": ".py",
   "mimetype": "text/x-python",
   "name": "python",
   "nbconvert_exporter": "python",
   "pygments_lexer": "ipython3",
   "version": "3.10.12"
  }
 },
 "nbformat": 4,
 "nbformat_minor": 2
}
